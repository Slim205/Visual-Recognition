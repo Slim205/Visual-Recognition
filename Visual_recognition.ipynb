{
  "nbformat": 4,
  "nbformat_minor": 0,
  "metadata": {
    "colab": {
      "provenance": [],
      "authorship_tag": "ABX9TyM4A2JBK/U+KPhJ92vrQs2t",
      "include_colab_link": true
    },
    "kernelspec": {
      "name": "python3",
      "display_name": "Python 3"
    },
    "language_info": {
      "name": "python"
    }
  },
  "cells": [
    {
      "cell_type": "markdown",
      "metadata": {
        "id": "view-in-github",
        "colab_type": "text"
      },
      "source": [
        "<a href=\"https://colab.research.google.com/github/Slim205/Visual-Recognition/blob/main/Visual_recognition.ipynb\" target=\"_parent\"><img src=\"https://colab.research.google.com/assets/colab-badge.svg\" alt=\"Open In Colab\"/></a>"
      ]
    },
    {
      "cell_type": "code",
      "execution_count": null,
      "metadata": {
        "colab": {
          "base_uri": "https://localhost:8080/"
        },
        "id": "nFm3U8QkfJ63",
        "outputId": "e5a2d792-b8c3-4761-d938-c3e802f97524"
      },
      "outputs": [
        {
          "output_type": "stream",
          "name": "stdout",
          "text": [
            "Looking in indexes: https://pypi.org/simple, https://us-python.pkg.dev/colab-wheels/public/simple/\n",
            "Collecting git+https://github.com/rcmalli/keras-vggface.git\n",
            "  Cloning https://github.com/rcmalli/keras-vggface.git to /tmp/pip-req-build-td4lyx28\n",
            "  Running command git clone -q https://github.com/rcmalli/keras-vggface.git /tmp/pip-req-build-td4lyx28\n",
            "Requirement already satisfied: numpy>=1.9.1 in /usr/local/lib/python3.7/dist-packages (from keras-vggface==0.6) (1.21.6)\n",
            "Requirement already satisfied: scipy>=0.14 in /usr/local/lib/python3.7/dist-packages (from keras-vggface==0.6) (1.7.3)\n",
            "Requirement already satisfied: h5py in /usr/local/lib/python3.7/dist-packages (from keras-vggface==0.6) (3.1.0)\n",
            "Requirement already satisfied: pillow in /usr/local/lib/python3.7/dist-packages (from keras-vggface==0.6) (7.1.2)\n",
            "Requirement already satisfied: keras in /usr/local/lib/python3.7/dist-packages (from keras-vggface==0.6) (2.9.0)\n",
            "Requirement already satisfied: six>=1.9.0 in /usr/local/lib/python3.7/dist-packages (from keras-vggface==0.6) (1.15.0)\n",
            "Requirement already satisfied: pyyaml in /usr/local/lib/python3.7/dist-packages (from keras-vggface==0.6) (6.0)\n",
            "Requirement already satisfied: cached-property in /usr/local/lib/python3.7/dist-packages (from h5py->keras-vggface==0.6) (1.5.2)\n",
            "Building wheels for collected packages: keras-vggface\n",
            "  Building wheel for keras-vggface (setup.py) ... \u001b[?25l\u001b[?25hdone\n",
            "  Created wheel for keras-vggface: filename=keras_vggface-0.6-py3-none-any.whl size=8324 sha256=c234335d5695c9cf868f6a832e40d416d3aad946f38ceee30f283c507f9dfa78\n",
            "  Stored in directory: /tmp/pip-ephem-wheel-cache-6jspwemr/wheels/08/df/86/0225d44647ab2256dbf1e006823288fe9cc86367a056e6ea2c\n",
            "Successfully built keras-vggface\n",
            "Installing collected packages: keras-vggface\n",
            "Successfully installed keras-vggface-0.6\n",
            "Looking in indexes: https://pypi.org/simple, https://us-python.pkg.dev/colab-wheels/public/simple/\n",
            "Collecting keras_applications\n",
            "  Downloading Keras_Applications-1.0.8-py3-none-any.whl (50 kB)\n",
            "\u001b[K     |████████████████████████████████| 50 kB 2.7 MB/s \n",
            "\u001b[?25hInstalling collected packages: keras-applications\n",
            "Successfully installed keras-applications-1.0.8\n",
            "Downloading data from https://storage.googleapis.com/tensorflow/keras-applications/resnet/resnet152v2_weights_tf_dim_ordering_tf_kernels_notop.h5\n",
            "234545216/234545216 [==============================] - 11s 0us/step\n"
          ]
        }
      ],
      "source": [
        "! pip install git+https://github.com/rcmalli/keras-vggface.git\n",
        "!pip install keras_applications --no-deps\n",
        "filename = \"/usr/local/lib/python3.7/dist-packages/keras_vggface/models.py\"\n",
        "text = open(filename).read()\n",
        "open(filename, \"w+\").write(text.replace('keras.engine.topology', 'tensorflow.keras.utils'))\n",
        "\n",
        "import tensorflow as tf\n",
        "import keras_vggface\n",
        "from tensorflow import keras\n",
        "import matplotlib.pyplot as plt\n",
        "import numpy as np\n",
        "from keras.preprocessing import image\n",
        "from keras_vggface.vggface import VGGFace\n",
        "from keras_vggface import utils\n",
        "import cv2\n",
        "from google.colab.patches import cv2_imshow\n",
        "from numpy.linalg import norm\n",
        "model = keras.applications.ResNet152V2(weights='imagenet', include_top=False, input_shape=(224, 224, 3))"
      ]
    },
    {
      "cell_type": "code",
      "source": [
        "adresse_img = input(\"Veuillez entrer l'adresse de l'image à comparer :\")\n",
        "\n",
        "\n",
        "def carre(path) :\n",
        "#   # face_cascade = cv2.CascadeClassifier(\"haarcascade_frontalface_default.xml\")\n",
        "#   img = cv2.imread(path+\".jpeg\")\n",
        "#   # gray = cv2.cvtColor(img, cv2.COLOR_BGR2GRAY)\n",
        "#   # faces = face_cascade.detectMultiScale(gray, 1.1, 4)\n",
        "#   # x,y,w,h = faces[0]\n",
        "#   # dmc = img[y:y+h,x:x+w]\n",
        "#   path_carre = path + \"_carre.jpeg\"\n",
        "  path_carre  = path + \".jpg\"\n",
        "#   cv2.imwrite(path_carre,dmc)\n",
        "  return path_carre\n",
        "\n",
        "print(carre(adresse_img))\n",
        "\n",
        "# model = VGGFace(model='resnet50', include_top=False,\n",
        "#                   input_shape=(224, 224, 3), pooling='avg')\n",
        "\n",
        "model = keras.applications.ResNet152V2(weights='imagenet', include_top=False, input_shape=(224, 224, 3))\n",
        "\n",
        "vecteurs_predict = []\n",
        "liste_noms={\"frites\",\"burger\"}\n",
        "# \"tom_cruise\",\"zizou\",\"Ibra\",\"Dwayne_Johnson_0001\",\"philippe-etchebest\",\"dujardin\",\"Benzema\"}\n",
        "liste_noms_carre = []\n",
        "for x in liste_noms :\n",
        "    path_carre = carre(x)\n",
        "    liste_noms_carre.append(path_carre)\n",
        "    img = tf.keras.utils.load_img(path_carre, target_size=(224, 224))\n",
        "    y = tf.keras.utils.img_to_array(img)\n",
        "    y = np.expand_dims(y, axis=0)\n",
        "    y = utils.preprocess_input(y, version=1)\n",
        "    preds = model.predict(y)\n",
        "    vecteurs_predict.append((path_carre,preds))\n",
        "\n",
        "# on utilise le réseau de neurones entrainé pour détecter les aliments...\n",
        "\n",
        "\n",
        "\n",
        "\n",
        "def test(adresse_image) :\n",
        "  adresse_carre = carre(adresse_image)\n",
        "  img_new = tf.keras.utils.load_img(adresse_carre, target_size=(224, 224))\n",
        "  x = tf.keras.utils.img_to_array(img_new)\n",
        "  x = np.expand_dims(x, axis=0)\n",
        "  x = utils.preprocess_input(x, version=1)\n",
        "  preds_new = model.predict(x)\n",
        "  m=[]\n",
        "  for element in vecteurs_predict:\n",
        "      vecteur_ecart = list(preds_new - element[1])\n",
        "      s = norm(vecteur_ecart)\n",
        "      m.append((element[0],s))\n",
        "      print(m)\n",
        "  l = [i[1] for i in m]\n",
        "  for j in m :\n",
        "    if j[1]== min(l) :\n",
        "      return(j[0])\n",
        "\n",
        "print(test(adresse_img))"
      ],
      "metadata": {
        "colab": {
          "base_uri": "https://localhost:8080/"
        },
        "id": "bF8NYPYvfbhP",
        "outputId": "91707ca4-aae9-4c4f-a45e-1fcd76845103"
      },
      "execution_count": null,
      "outputs": [
        {
          "output_type": "stream",
          "name": "stdout",
          "text": [
            "Veuillez entrer l'adresse de l'image à comparer :burger3\n",
            "burger3.jpg\n",
            "1/1 [==============================] - 3s 3s/step\n",
            "1/1 [==============================] - 1s 508ms/step\n",
            "1/1 [==============================] - 1s 527ms/step\n",
            "[('burger.jpg', 105139.79)]\n",
            "[('burger.jpg', 105139.79), ('frites.jpg', 49254.04)]\n",
            "frites.jpg\n"
          ]
        }
      ]
    }
  ]
}