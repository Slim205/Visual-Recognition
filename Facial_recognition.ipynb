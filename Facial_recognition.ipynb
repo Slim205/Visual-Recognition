{
  "nbformat": 4,
  "nbformat_minor": 0,
  "metadata": {
    "colab": {
      "provenance": [],
      "authorship_tag": "ABX9TyM4wEZwcHRDlcJzJCwWIdGn",
      "include_colab_link": true
    },
    "kernelspec": {
      "name": "python3",
      "display_name": "Python 3"
    },
    "language_info": {
      "name": "python"
    }
  },
  "cells": [
    {
      "cell_type": "markdown",
      "metadata": {
        "id": "view-in-github",
        "colab_type": "text"
      },
      "source": [
        "<a href=\"https://colab.research.google.com/github/Slim205/Visual-Recognition/blob/main/Facial_recognition.ipynb\" target=\"_parent\"><img src=\"https://colab.research.google.com/assets/colab-badge.svg\" alt=\"Open In Colab\"/></a>"
      ]
    },
    {
      "cell_type": "code",
      "source": [
        "! pip install git+https://github.com/rcmalli/keras-vggface.git\n",
        "!pip install keras_applications --no-deps\n",
        "filename = \"/usr/local/lib/python3.7/dist-packages/keras_vggface/models.py\"\n",
        "text = open(filename).read()\n",
        "open(filename, \"w+\").write(text.replace('keras.engine.topology', 'tensorflow.keras.utils'))\n",
        "\n",
        "import tensorflow as tf\n",
        "import keras_vggface\n",
        "from tensorflow import keras\n",
        "import matplotlib.pyplot as plt\n",
        "import numpy as np\n",
        "from keras.preprocessing import image\n",
        "from keras_vggface.vggface import VGGFace\n",
        "from keras_vggface import utils\n",
        "import cv2\n",
        "from google.colab.patches import cv2_imshow\n",
        "\n",
        "model = VGGFace(model='resnet50', include_top=False,input_shape=(224, 224, 3), pooling='avg')\n",
        "def carre(path) :\n",
        "  face_cascade = cv2.CascadeClassifier('haarcascade_frontalface_default.xml')\n",
        "  img = cv2.imread(path)\n",
        "  eye_cascade = cv2.CascadeClassifier('haarcascade_eye.xml')\n",
        "  gray = cv2.cvtColor(img, cv2.COLOR_BGR2GRAY)\n",
        "  faces = face_cascade.detectMultiScale(gray, 1.1, 4)\n",
        "  x,y,w,h = faces[0]\n",
        "  dmc = img[y:y+h,x:x+w]\n",
        "  path_carre = 'carre_' + path\n",
        "  cv2.imwrite(path_carre,dmc)\n",
        "  return path_carre\n",
        "vecteurs_predict = []\n",
        "liste_noms = ['zizou.jpg','Mbappe.jpg','Loeb.jpg']\n",
        "liste_noms_carre = []\n",
        "for x in liste_noms :\n",
        "    path_carre = carre(x)\n",
        "    liste_noms_carre.append(path_carre)\n",
        "    img = tf.keras.utils.load_img(path_carre, target_size=(224, 224))\n",
        "    y = tf.keras.utils.img_to_array(img)\n",
        "    y = np.expand_dims(y, axis=0)\n",
        "    y = utils.preprocess_input(y, version=1)\n",
        "    preds = model.predict(y)\n",
        "    vecteurs_predict.append((path_carre,preds))\n",
        "\n",
        "def test(adresse_image) :\n",
        "  adresse_carre = carre(adresse_image)\n",
        "  img_new = tf.keras.utils.load_img(adresse_carre, target_size=(224, 224))\n",
        "  x = tf.keras.utils.img_to_array(img_new)\n",
        "  x = np.expand_dims(x, axis=0)\n",
        "  x = utils.preprocess_input(x, version=1)\n",
        "  preds_new = model.predict(x)\n",
        "  m=[]\n",
        "  for element in vecteurs_predict:\n",
        "      vecteur_ecart = list(preds_new - element[1])\n",
        "      f= list(vecteur_ecart[0])\n",
        "      l = [abs(i) for i in f]\n",
        "      s = sum(l)/len(l)\n",
        "      m.append((element,s))\n",
        "  l = [i[1] for i in m]\n",
        "  for j in m :\n",
        "    if j[1]== min(l) :\n",
        "      return(j[0][0][6:-4])\n"
      ],
      "metadata": {
        "colab": {
          "base_uri": "https://localhost:8080/"
        },
        "id": "Tfx8o6Sa0YxN",
        "outputId": "c766fa9e-64ee-4376-817f-e88f311665d6"
      },
      "execution_count": null,
      "outputs": [
        {
          "output_type": "stream",
          "name": "stdout",
          "text": [
            "Looking in indexes: https://pypi.org/simple, https://us-python.pkg.dev/colab-wheels/public/simple/\n",
            "Collecting git+https://github.com/rcmalli/keras-vggface.git\n",
            "  Cloning https://github.com/rcmalli/keras-vggface.git to /tmp/pip-req-build-jq41a9bs\n",
            "  Running command git clone -q https://github.com/rcmalli/keras-vggface.git /tmp/pip-req-build-jq41a9bs\n",
            "Requirement already satisfied: numpy>=1.9.1 in /usr/local/lib/python3.7/dist-packages (from keras-vggface==0.6) (1.21.6)\n",
            "Requirement already satisfied: scipy>=0.14 in /usr/local/lib/python3.7/dist-packages (from keras-vggface==0.6) (1.7.3)\n",
            "Requirement already satisfied: h5py in /usr/local/lib/python3.7/dist-packages (from keras-vggface==0.6) (3.1.0)\n",
            "Requirement already satisfied: pillow in /usr/local/lib/python3.7/dist-packages (from keras-vggface==0.6) (7.1.2)\n",
            "Requirement already satisfied: keras in /usr/local/lib/python3.7/dist-packages (from keras-vggface==0.6) (2.9.0)\n",
            "Requirement already satisfied: six>=1.9.0 in /usr/local/lib/python3.7/dist-packages (from keras-vggface==0.6) (1.15.0)\n",
            "Requirement already satisfied: pyyaml in /usr/local/lib/python3.7/dist-packages (from keras-vggface==0.6) (6.0)\n",
            "Requirement already satisfied: cached-property in /usr/local/lib/python3.7/dist-packages (from h5py->keras-vggface==0.6) (1.5.2)\n",
            "Looking in indexes: https://pypi.org/simple, https://us-python.pkg.dev/colab-wheels/public/simple/\n",
            "Requirement already satisfied: keras_applications in /usr/local/lib/python3.7/dist-packages (1.0.8)\n",
            "1/1 [==============================] - 1s 1s/step\n",
            "1/1 [==============================] - 0s 213ms/step\n",
            "1/1 [==============================] - 0s 208ms/step\n"
          ]
        }
      ]
    },
    {
      "cell_type": "code",
      "source": [
        "test('Mbappe.jpg')"
      ],
      "metadata": {
        "colab": {
          "base_uri": "https://localhost:8080/",
          "height": 53
        },
        "id": "Yk_1VVL3ji0W",
        "outputId": "1c213236-4702-4739-cffc-503f72feabdf"
      },
      "execution_count": null,
      "outputs": [
        {
          "output_type": "stream",
          "name": "stdout",
          "text": [
            "1/1 [==============================] - 0s 230ms/step\n"
          ]
        },
        {
          "output_type": "execute_result",
          "data": {
            "text/plain": [
              "'Mbappe'"
            ],
            "application/vnd.google.colaboratory.intrinsic+json": {
              "type": "string"
            }
          },
          "metadata": {},
          "execution_count": 42
        }
      ]
    }
  ]
}